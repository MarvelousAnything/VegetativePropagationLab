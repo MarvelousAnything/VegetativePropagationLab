{
 "cells": [
  {
   "cell_type": "code",
   "execution_count": 34,
   "metadata": {
    "pycharm": {
     "name": "#%%\n"
    }
   },
   "outputs": [],
   "source": [
    "from utils.error.uncertainty import Uncertainty\n",
    "\n",
    "import numpy as np\n",
    "import pandas as pd\n",
    "import matplotlib.pyplot as plt\n",
    "\n",
    "from data.raw import raw_data"
   ]
  },
  {
   "cell_type": "code",
   "execution_count": 35,
   "metadata": {
    "pycharm": {
     "name": "#%%\n"
    }
   },
   "outputs": [],
   "source": [
    "col_names = [\"Concentration (Mol NaCl)\",\n",
    "             \"Average root count\",\n",
    "             \"Average root count uncertainty\",\n",
    "             \"Average root length (mm)\",\n",
    "             \"Average root length uncertainty\"]\n",
    "processed = {}\n",
    "\n",
    "for k in raw_data:\n",
    "    avg_root_count = Uncertainty.from_average(raw_data[k].count())\n",
    "    avg_root_length = Uncertainty.from_average(np.mean(raw_data[k]))\n",
    "    processed[k] = [k, avg_root_count.num, avg_root_count.absolute, avg_root_length.num, avg_root_length.absolute]\n",
    "df = pd.DataFrame.from_dict(processed, columns=col_names, orient='index').fillna(0)"
   ]
  },
  {
   "cell_type": "code",
   "execution_count": 36,
   "metadata": {
    "pycharm": {
     "name": "#%%\n"
    }
   },
   "outputs": [
    {
     "data": {
      "text/plain": [
       "array([[<AxesSubplot:>, <AxesSubplot:>]], dtype=object)"
      ]
     },
     "execution_count": 36,
     "metadata": {},
     "output_type": "execute_result"
    },
    {
     "data": {
      "image/png": "[encoded data removed]",
      "text/plain": [
       "<Figure size 432x288 with 2 Axes>"
      ]
     },
     "metadata": {
      "needs_background": "light"
     },
     "output_type": "display_data"
    }
   ],
   "source": [
    "df[[\"Average root count\", \"Average root length (mm)\"]].plot(subplots=True, layout=(1,2), yerr=df[[\"Average root count uncertainty\", \"Average root length uncertainty\"]].values.T)"
   ]
  },
  {
   "cell_type": "code",
   "execution_count": 37,
   "metadata": {
    "pycharm": {
     "name": "#%%\n"
    }
   },
   "outputs": [],
   "source": [
    "plt.show()"
   ]
  }
 ],
 "metadata": {
  "kernelspec": {
   "display_name": "Python 3 (ipykernel)",
   "language": "python",
   "name": "python3"
  },
  "language_info": {
   "codemirror_mode": {
    "name": "ipython",
    "version": 3
   },
   "file_extension": ".py",
   "mimetype": "text/x-python",
   "name": "python",
   "nbconvert_exporter": "python",
   "pygments_lexer": "ipython3",
   "version": "3.9.7"
  }
 },
 "nbformat": 4,
 "nbformat_minor": 1
}
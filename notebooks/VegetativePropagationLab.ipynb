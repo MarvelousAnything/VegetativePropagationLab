{
 "cells": [
  {
   "cell_type": "code",
   "execution_count": 10,
   "metadata": {
    "pycharm": {
     "name": "#%%\n"
    }
   },
   "outputs": [],
   "source": [
    "from utils.error.uncertainty import Uncertainty\n",
    "\n",
    "import numpy as np\n",
    "import pandas as pd\n",
    "import matplotlib.pyplot as plt\n",
    "from IPython.core.display import display, HTML\n",
    "\n",
    "from data.raw import raw_data"
   ]
  },
  {
   "cell_type": "markdown",
   "source": [
    "Set column names"
   ],
   "metadata": {
    "collapsed": false,
    "pycharm": {
     "name": "#%% md\n"
    }
   }
  },
  {
   "cell_type": "code",
   "execution_count": 11,
   "metadata": {
    "pycharm": {
     "name": "#%%\n"
    }
   },
   "outputs": [],
   "source": [
    "col_names = [\"Concentration (Mol NaCl)\",\n",
    "             \"Average root count\",\n",
    "             \"Average root count uncertainty\",\n",
    "             \"Average root length (mm)\",\n",
    "             \"Average root length uncertainty\"]\n"
   ]
  },
  {
   "cell_type": "markdown",
   "source": [
    "Process raw data and their uncertainties"
   ],
   "metadata": {
    "collapsed": false,
    "pycharm": {
     "name": "#%% md\n"
    }
   }
  },
  {
   "cell_type": "code",
   "source": [
    "processed = {}\n",
    "\n",
    "for k in raw_data:\n",
    "    avg_root_count = Uncertainty.from_average(raw_data[k].count())\n",
    "    avg_root_length = Uncertainty.from_average(np.mean(raw_data[k]))\n",
    "    processed[float(k)] = [float(k),\n",
    "                    avg_root_count.num,\n",
    "                    avg_root_count.absolute,\n",
    "                    avg_root_length.num,\n",
    "                    avg_root_length.absolute]"
   ],
   "metadata": {
    "collapsed": false,
    "pycharm": {
     "name": "#%%\n"
    }
   },
   "execution_count": 12,
   "outputs": []
  },
  {
   "cell_type": "markdown",
   "source": [
    "Create and display dataframe"
   ],
   "metadata": {
    "collapsed": false,
    "pycharm": {
     "name": "#%% md\n"
    }
   }
  },
  {
   "cell_type": "code",
   "execution_count": 13,
   "outputs": [],
   "source": [
    "df = pd.DataFrame.from_dict(processed, columns=col_names, orient='index')\\\n",
    "    .fillna(0)"
   ],
   "metadata": {
    "collapsed": false,
    "pycharm": {
     "name": "#%%\n"
    }
   }
  },
  {
   "cell_type": "code",
   "source": [
    "display(HTML(df.to_html(index=False)))"
   ],
   "metadata": {
    "collapsed": false,
    "pycharm": {
     "name": "#%%\n"
    }
   },
   "execution_count": 14,
   "outputs": [
    {
     "data": {
      "text/plain": "<IPython.core.display.HTML object>",
      "text/html": "<table border=\"1\" class=\"dataframe\">\n  <thead>\n    <tr style=\"text-align: right;\">\n      <th>Concentration (Mol NaCl)</th>\n      <th>Average root count</th>\n      <th>Average root count uncertainty</th>\n      <th>Average root length (mm)</th>\n      <th>Average root length uncertainty</th>\n    </tr>\n  </thead>\n  <tbody>\n    <tr>\n      <td>0.00</td>\n      <td>48.6</td>\n      <td>7.0</td>\n      <td>52.354636</td>\n      <td>7.0</td>\n    </tr>\n    <tr>\n      <td>0.08</td>\n      <td>30.0</td>\n      <td>9.0</td>\n      <td>20.461854</td>\n      <td>4.0</td>\n    </tr>\n    <tr>\n      <td>0.22</td>\n      <td>0.0</td>\n      <td>0.0</td>\n      <td>0.000000</td>\n      <td>0.0</td>\n    </tr>\n    <tr>\n      <td>0.36</td>\n      <td>0.0</td>\n      <td>0.0</td>\n      <td>0.000000</td>\n      <td>0.0</td>\n    </tr>\n    <tr>\n      <td>0.50</td>\n      <td>0.0</td>\n      <td>0.0</td>\n      <td>0.000000</td>\n      <td>0.0</td>\n    </tr>\n  </tbody>\n</table>"
     },
     "metadata": {},
     "output_type": "display_data"
    }
   ]
  },
  {
   "cell_type": "markdown",
   "source": [
    "Plot data"
   ],
   "metadata": {
    "collapsed": false,
    "pycharm": {
     "name": "#%% md\n"
    }
   }
  },
  {
   "cell_type": "code",
   "execution_count": 24,
   "metadata": {
    "pycharm": {
     "name": "#%%\n"
    }
   },
   "outputs": [
    {
     "data": {
      "text/plain": "Text(0, 0.5, 'Root length (mm)')"
     },
     "execution_count": 24,
     "metadata": {},
     "output_type": "execute_result"
    },
    {
     "data": {
      "text/plain": "<Figure size 432x288 with 2 Axes>",
      "image/png": "[encoded data removed]"
     },
     "metadata": {
      "needs_background": "light"
     },
     "output_type": "display_data"
    }
   ],
   "source": [
    "axes = df[[\"Average root count\", \"Average root length (mm)\"]]\\\n",
    "    .plot(subplots=True,\n",
    "          layout=(2,1),\n",
    "          yerr=df[[\"Average root count uncertainty\",\n",
    "                   \"Average root length uncertainty\"]].values.T,\n",
    "          title=[\"Average root count vs Concentration of NaCl\",\n",
    "                 \"Average root length vs Concentration of NaCl\"],\n",
    "          sharex=True,\n",
    "          xlabel=\"Concentration (Mol NaCl)\")\n",
    "axes[0][0].set_ylabel('Root count')\n",
    "axes[1][0].set_ylabel('Root length (mm)')"
   ]
  },
  {
   "cell_type": "code",
   "execution_count": 16,
   "metadata": {
    "pycharm": {
     "name": "#%%\n"
    }
   },
   "outputs": [],
   "source": [
    "plt.show()"
   ]
  }
 ],
 "metadata": {
  "kernelspec": {
   "display_name": "Python 3 (ipykernel)",
   "language": "python",
   "name": "python3"
  },
  "language_info": {
   "codemirror_mode": {
    "name": "ipython",
    "version": 3
   },
   "file_extension": ".py",
   "mimetype": "text/x-python",
   "name": "python",
   "nbconvert_exporter": "python",
   "pygments_lexer": "ipython3",
   "version": "3.9.7"
  }
 },
 "nbformat": 4,
 "nbformat_minor": 1
}